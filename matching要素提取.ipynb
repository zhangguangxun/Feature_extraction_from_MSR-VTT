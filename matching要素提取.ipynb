{
 "cells": [
  {
   "cell_type": "code",
   "execution_count": 2,
   "metadata": {},
   "outputs": [],
   "source": [
    "import sys\n",
    "sys.path.append(\"../detectron2\")"
   ]
  },
  {
   "cell_type": "code",
   "execution_count": 3,
   "metadata": {},
   "outputs": [],
   "source": [
    "import cv2\n",
    "import io\n",
    "import numpy as np\n",
    "from  matplotlib import pyplot as plt\n",
    "from IPython.display import clear_output, Image, display\n",
    "import PIL.Image\n",
    "import torch\n",
    "import os\n",
    "\n",
    "\n",
    "from detectron2.modeling import build_backbone\n",
    "from detectron2.modeling.poolers import ROIPooler\n",
    "from detectron2.config import get_cfg\n",
    "from detectron2.data.detection_utils import read_image\n",
    "from detectron2.engine import DefaultPredictor\n",
    "from detectron2.utils.visualizer import Visualizer\n",
    "from detectron2.data import MetadataCatalog"
   ]
  },
  {
   "cell_type": "code",
   "execution_count": 4,
   "metadata": {},
   "outputs": [],
   "source": [
    "def showarray(a, fmt='jpeg'):\n",
    "    a = np.uint8(np.clip(a, 0, 255))\n",
    "    f = io.BytesIO()\n",
    "    PIL.Image.fromarray(a).save(f, fmt)\n",
    "    display(Image(data=f.getvalue()))"
   ]
  },
  {
   "cell_type": "code",
   "execution_count": 5,
   "metadata": {},
   "outputs": [],
   "source": [
    "confidence_threshold = 0.5\n",
    "config_file = \"../detectron2/configs/COCO-Detection/faster_rcnn_R_101_C4_3x.yaml\"\n",
    "model_weights = \"../detectron2/demo/faster_rcnn_R_101_C4_3x.pkl\""
   ]
  },
  {
   "cell_type": "code",
   "execution_count": 6,
   "metadata": {},
   "outputs": [],
   "source": [
    "cfg = get_cfg()\n",
    "cfg.merge_from_file(config_file)\n",
    "cfg.MODEL.WEIGHTS =model_weights\n",
    "cfg.MODEL.RETINANET.SCORE_THRESH_TEST = confidence_threshold\n",
    "cfg.MODEL.ROI_HEADS.SCORE_THRESH_TEST = confidence_threshold\n",
    "cfg.MODEL.PANOPTIC_FPN.COMBINE.INSTANCES_CONFIDENCE_THRESH = confidence_threshold\n",
    "cfg.freeze()\n",
    "backbone = build_backbone(cfg)\n",
    "predictor = DefaultPredictor(cfg)"
   ]
  },
  {
   "cell_type": "markdown",
   "metadata": {},
   "source": [
    "### 将输入的视频提取成帧的形式保存到tmp（临时文件）文件夹下"
   ]
  },
  {
   "cell_type": "code",
   "execution_count": 32,
   "metadata": {},
   "outputs": [],
   "source": [
    "videopath = \"./TrainValsegment/video0/video1.mp4\""
   ]
  },
  {
   "cell_type": "code",
   "execution_count": 33,
   "metadata": {},
   "outputs": [],
   "source": [
    "video=cv2.VideoCapture(videopath)\n",
    "c=0\n",
    "if video.isOpened():\n",
    "    rval,frame=video.read()\n",
    "else:\n",
    "    rval=False\n",
    "outputpath = \"./tmp1\"\n",
    "if not os.path.exists(outputpath):\n",
    "    os.makedirs(outputpath)\n",
    "#隔一帧取一张图片\n",
    "while rval:\n",
    "    rval,frame=video.read()\n",
    "    if rval:\n",
    "        if c%2==0:\n",
    "            cv2.imwrite(outputpath+'/'+str(c//2)+'.jpg',frame)\n",
    "        c=c+1\n",
    "        cv2.waitKey(1)\n",
    "video.release()"
   ]
  },
  {
   "cell_type": "markdown",
   "metadata": {},
   "source": [
    "### 从第一帧中提取被检测出的bounding box"
   ]
  },
  {
   "cell_type": "code",
   "execution_count": 32,
   "metadata": {},
   "outputs": [],
   "source": [
    "im1path = \"./tmp/0.jpg\" "
   ]
  },
  {
   "cell_type": "code",
   "execution_count": 33,
   "metadata": {},
   "outputs": [
    {
     "name": "stdout",
     "output_type": "stream",
     "text": [
      "Instances(num_instances=4, image_height=240, image_width=320, fields=[pred_boxes: Boxes(tensor([[ 23.4511,   7.2789, 309.8318, 238.9635],\n",
      "        [ 26.1194,  12.6935, 163.2621, 231.0703],\n",
      "        [  3.8050,  25.7060,  75.9872, 235.6143],\n",
      "        [ 39.6411, 128.6855, 277.9942, 238.7505]])), scores: tensor([0.9900, 0.9241, 0.6614, 0.5661]), pred_classes: tensor([ 0,  0, 56,  0])])\n"
     ]
    },
    {
     "data": {
      "image/jpeg": "[encoded data removed]",
      "text/plain": [
       "<IPython.core.display.Image object>"
      ]
     },
     "metadata": {},
     "output_type": "display_data"
    }
   ],
   "source": [
    "im = cv2.imread(im1path)\n",
    "pred1 = predictor(im)\n",
    "#MetadataCatalog.get(\"vg\").thing_classes = []\n",
    "v = Visualizer(im[:, :, :],MetadataCatalog.get(\"coco_2017_train\"))\n",
    "pred = pred1['instances'].to('cpu')\n",
    "print(pred)\n",
    "v = v.draw_instance_predictions(pred)\n",
    "showarray(v.get_image()[:, :, ::-1])"
   ]
  },
  {
   "cell_type": "markdown",
   "metadata": {},
   "source": [
    "### 从第二帧中提取被检测出的bounding box"
   ]
  },
  {
   "cell_type": "code",
   "execution_count": 16,
   "metadata": {},
   "outputs": [
    {
     "name": "stdout",
     "output_type": "stream",
     "text": [
      "Instances(num_instances=5, image_height=240, image_width=320, fields=[pred_boxes: Boxes(tensor([[ 17.3808,   6.1478, 303.0605, 240.0000],\n",
      "        [165.3070, 178.7682, 182.3537, 197.3901],\n",
      "        [ 45.9925, 123.5699, 295.0888, 240.0000],\n",
      "        [137.4300,  37.3525, 280.8082, 188.7440],\n",
      "        [  3.3860,  30.3622,  73.9963, 239.9579]])), scores: tensor([0.9872, 0.7682, 0.6444, 0.5702, 0.5332]), pred_classes: tensor([ 0, 74,  0, 67, 56])])\n"
     ]
    },
    {
     "data": {
      "image/jpeg": "[encoded data removed]",
      "text/plain": [
       "<IPython.core.display.Image object>"
      ]
     },
     "metadata": {},
     "output_type": "display_data"
    }
   ],
   "source": [
    "im2path = \"./tmp/9.jpg\" \n",
    "im = cv2.imread(im2path)\n",
    "pred2 = predictor(im)\n",
    "#MetadataCatalog.get(\"vg\").thing_classes = []\n",
    "v = Visualizer(im[:, :, :],MetadataCatalog.get(\"coco_2017_train\"))\n",
    "output = pred2['instances']\n",
    "pred = pred2['instances'].to('cpu')\n",
    "print(pred)\n",
    "v = v.draw_instance_predictions(pred)\n",
    "showarray(v.get_image()[:, :, ::-1])"
   ]
  },
  {
   "cell_type": "code",
   "execution_count": 43,
   "metadata": {},
   "outputs": [
    {
     "data": {
      "text/plain": [
       "'chair'"
      ]
     },
     "execution_count": 43,
     "metadata": {},
     "output_type": "execute_result"
    }
   ],
   "source": [
    "MetadataCatalog.get(\"coco_2017_train\").thing_classes[56]"
   ]
  },
  {
   "cell_type": "markdown",
   "metadata": {},
   "source": [
    "### 提取res4特征"
   ]
  },
  {
   "cell_type": "code",
   "execution_count": 61,
   "metadata": {},
   "outputs": [],
   "source": [
    "raw_boxes = output.pred_boxes"
   ]
  },
  {
   "cell_type": "code",
   "execution_count": 63,
   "metadata": {},
   "outputs": [
    {
     "name": "stdout",
     "output_type": "stream",
     "text": [
      "Original image size:  (240, 320)\n",
      "Transformed image size:  (800, 1067)\n",
      "the lenth of tensor:  torch.Size([3, 800, 1067])\n",
      "the size of feature:  torch.Size([1, 1024, 50, 67])\n",
      "the final shape of feature:  torch.Size([4, 2048])\n"
     ]
    }
   ],
   "source": [
    "from detectron2.modeling.postprocessing import detector_postprocess\n",
    "from detectron2.modeling.roi_heads.fast_rcnn import FastRCNNOutputLayers, FastRCNNOutputs, fast_rcnn_inference_single_image\n",
    "\n",
    "raw_height, raw_width = im.shape[:2]\n",
    "print(\"Original image size: \", (raw_height, raw_width))\n",
    "image = predictor.transform_gen.get_transform(im).apply_image(im)\n",
    "print(\"Transformed image size: \", image.shape[:2])\n",
    "image = torch.as_tensor(image.astype(\"float32\").transpose(2, 0, 1))\n",
    "print(\"the lenth of tensor: \",image.shape)\n",
    "inputs = [{\"image\": image, \"height\": raw_height, \"width\": raw_width}]\n",
    "images = predictor.model.preprocess_image(inputs)\n",
    "features = predictor.model.backbone(images.tensor)\n",
    "print(\"the size of feature: \",features['res4'].shape)\n",
    "new_height, new_width = image.shape[:2]\n",
    "scale_x = 1. * new_width / raw_width\n",
    "scale_y = 1. * new_height / raw_height\n",
    "#print(scale_x, scale_y) \n",
    "boxes = raw_boxes.clone()\n",
    "boxes.scale(scale_x=scale_x, scale_y=scale_y)\n",
    "proposal_boxes = [boxes]\n",
    "nfeatures = [features[f] for f in predictor.model.roi_heads.in_features]\n",
    "box_features = predictor.model.roi_heads._shared_roi_transform(nfeatures, proposal_boxes)\n",
    "feature_pooled = box_features.mean(dim=[2, 3])\n",
    "print(\"the final shape of feature: \",feature_pooled.shape)"
   ]
  },
  {
   "cell_type": "code",
   "execution_count": 67,
   "metadata": {},
   "outputs": [
    {
     "name": "stdout",
     "output_type": "stream",
     "text": [
      "tensor([0.0000, 0.0000, 0.0199,  ..., 0.1083, 0.0206, 0.1276],\n",
      "       grad_fn=<SelectBackward>)\n"
     ]
    }
   ],
   "source": [
    "feature_pooled = feature_pooled.to('cpu')\n",
    "print(feature_pooled[0])"
   ]
  },
  {
   "cell_type": "markdown",
   "metadata": {},
   "source": [
    "### 提取直方图特征"
   ]
  },
  {
   "cell_type": "code",
   "execution_count": 74,
   "metadata": {},
   "outputs": [
    {
     "data": {
      "image/jpeg": "[encoded data removed]",
      "text/plain": [
       "<IPython.core.display.Image object>"
      ]
     },
     "metadata": {},
     "output_type": "display_data"
    }
   ],
   "source": [
    "im1 = cv2.imread(im1path)\n",
    "im2 = cv2.imread(im2path)\n",
    "part1 = im2[13:231,26:163,:]\n",
    "part2 = im2[11:233,18:160,:]\n",
    "showarray(part[:, :, ::-1])"
   ]
  },
  {
   "cell_type": "code",
   "execution_count": 78,
   "metadata": {},
   "outputs": [],
   "source": [
    "histB1 = cv2.calcHist([part1], [0], None, [32], [0, 256])\n",
    "histG1 = cv2.calcHist([part1], [1], None, [32], [0, 256])\n",
    "histR1 = cv2.calcHist([part1], [2], None, [32], [0, 256])\n",
    "histB2 = cv2.calcHist([part2], [0], None, [32], [0, 256])\n",
    "histG2 = cv2.calcHist([part2], [1], None, [32], [0, 256])\n",
    "histR2 = cv2.calcHist([part2], [2], None, [32], [0, 256])"
   ]
  },
  {
   "cell_type": "code",
   "execution_count": 79,
   "metadata": {},
   "outputs": [
    {
     "data": {
      "text/plain": [
       "[<matplotlib.lines.Line2D at 0x7f9f245a87b8>]"
      ]
     },
     "execution_count": 79,
     "metadata": {},
     "output_type": "execute_result"
    },
    {
     "data": {
      "image/png": "[encoded data removed]",
      "text/plain": [
       "<Figure size 432x288 with 1 Axes>"
      ]
     },
     "metadata": {
      "needs_background": "light"
     },
     "output_type": "display_data"
    }
   ],
   "source": [
    "plt.plot(histB1)\n",
    "plt.plot(histG1)\n",
    "plt.plot(histR1)\n",
    "plt.plot(histB2)\n",
    "plt.plot(histG2)\n",
    "plt.plot(histR2)"
   ]
  },
  {
   "cell_type": "code",
   "execution_count": 83,
   "metadata": {},
   "outputs": [
    {
     "name": "stdout",
     "output_type": "stream",
     "text": [
      "蓝色相关性为： 0.9985067203715052\n",
      "绿色相关性为： 0.9966813500710914\n",
      "红色相关性为： 0.9923835428530359\n"
     ]
    }
   ],
   "source": [
    "print(\"蓝色相关性为：\",cv2.compareHist(histB1, histB2, method=cv2.HISTCMP_CORREL))\n",
    "print(\"绿色相关性为：\",cv2.compareHist(histG1, histG2, method=cv2.HISTCMP_CORREL))\n",
    "print(\"红色相关性为：\",cv2.compareHist(histR1, histR2, method=cv2.HISTCMP_CORREL))"
   ]
  },
  {
   "cell_type": "markdown",
   "metadata": {},
   "source": [
    "### 计算面积"
   ]
  },
  {
   "cell_type": "code",
   "execution_count": 84,
   "metadata": {},
   "outputs": [],
   "source": [
    "def caulateArea(bbx):\n",
    "    \"\"\"\n",
    "    计算矩形面积\n",
    "    \"\"\"\n",
    "    return (bbx[2]-bbx[0])*(bbx[3]-bbx[1])"
   ]
  },
  {
   "cell_type": "code",
   "execution_count": 87,
   "metadata": {},
   "outputs": [
    {
     "name": "stdout",
     "output_type": "stream",
     "text": [
      "0.9519412473909538\n"
     ]
    }
   ],
   "source": [
    "area1 = caulateArea([ 18.4614,  10.8014, 160.3646, 232.5071])\n",
    "area2 = caulateArea([ 26.1194,  12.6935, 163.2621, 231.0703])\n",
    "print(area2/area1)"
   ]
  },
  {
   "cell_type": "markdown",
   "metadata": {},
   "source": [
    "### 计算IOU"
   ]
  },
  {
   "cell_type": "code",
   "execution_count": 88,
   "metadata": {},
   "outputs": [],
   "source": [
    "def IOU(Reframe,GTframe):\n",
    "    \"\"\"\n",
    "    计算两矩形 IOU，传入为均为矩形对角线，（x,y）  坐标。输出为计算得到的IOU值\n",
    "    \"\"\"\n",
    "    x1 = Reframe[0]\n",
    "    y1 = Reframe[1]\n",
    "    width1 = Reframe[2]-Reframe[0]\n",
    "    height1 = Reframe[3]-Reframe[1]\n",
    "\n",
    "    x2 = GTframe[0]\n",
    "    y2 = GTframe[1]\n",
    "    width2 = GTframe[2]-GTframe[0]\n",
    "    height2 = GTframe[3]-GTframe[1]\n",
    "\n",
    "    endx = max(x1+width1,x2+width2)\n",
    "    startx = min(x1,x2)\n",
    "    width = width1+width2-(endx-startx)\n",
    "\n",
    "    endy = max(y1+height1,y2+height2)\n",
    "    starty = min(y1,y2)\n",
    "    height = height1+height2-(endy-starty)\n",
    "\n",
    "    if width <=0 or height <= 0:\n",
    "        ratio = 0 # 重叠率为 0 \n",
    "    else:\n",
    "        Area = width*height # 两矩形相交面积\n",
    "        Area1 = width1*height1\n",
    "        Area2 = width2*height2\n",
    "        ratio = Area*1./(Area1+Area2-Area)\n",
    "    # return IOU\n",
    "    return ratio"
   ]
  },
  {
   "cell_type": "code",
   "execution_count": 89,
   "metadata": {},
   "outputs": [
    {
     "data": {
      "text/plain": [
       "0.9134572950329208"
      ]
     },
     "execution_count": 89,
     "metadata": {},
     "output_type": "execute_result"
    }
   ],
   "source": [
    "IOU([ 18.4614,  10.8014, 160.3646, 232.5071],[ 26.1194,  12.6935, 163.2621, 231.0703])"
   ]
  },
  {
   "cell_type": "code",
   "execution_count": 99,
   "metadata": {},
   "outputs": [
    {
     "data": {
      "text/plain": [
       "array([[ 15.560842,   5.264786, 298.73416 , 238.8623  ],\n",
       "       [ 18.461407,  10.801447, 160.3646  , 232.50706 ],\n",
       "       [ 40.590504,   2.302977, 303.26273 , 128.97305 ],\n",
       "       [  2.629017,  30.339212,  78.94222 , 236.18282 ]], dtype=float32)"
      ]
     },
     "execution_count": 99,
     "metadata": {},
     "output_type": "execute_result"
    }
   ],
   "source": [
    "tstbox = output.pred_boxes.to(\"cpu\")\n",
    "tstbox.tensor.numpy()"
   ]
  },
  {
   "cell_type": "markdown",
   "metadata": {},
   "source": [
    "### 抽取带有bbxs的视频"
   ]
  },
  {
   "cell_type": "code",
   "execution_count": 18,
   "metadata": {},
   "outputs": [],
   "source": [
    "from glob import glob"
   ]
  },
  {
   "cell_type": "code",
   "execution_count": 35,
   "metadata": {},
   "outputs": [
    {
     "data": {
      "text/plain": [
       "['tmp1/0.jpg',\n",
       " 'tmp1/1.jpg',\n",
       " 'tmp1/2.jpg',\n",
       " 'tmp1/3.jpg',\n",
       " 'tmp1/4.jpg',\n",
       " 'tmp1/5.jpg',\n",
       " 'tmp1/6.jpg',\n",
       " 'tmp1/7.jpg',\n",
       " 'tmp1/8.jpg',\n",
       " 'tmp1/9.jpg',\n",
       " 'tmp1/10.jpg',\n",
       " 'tmp1/11.jpg',\n",
       " 'tmp1/12.jpg',\n",
       " 'tmp1/13.jpg',\n",
       " 'tmp1/14.jpg',\n",
       " 'tmp1/15.jpg',\n",
       " 'tmp1/16.jpg',\n",
       " 'tmp1/17.jpg',\n",
       " 'tmp1/18.jpg',\n",
       " 'tmp1/19.jpg',\n",
       " 'tmp1/20.jpg',\n",
       " 'tmp1/21.jpg',\n",
       " 'tmp1/22.jpg',\n",
       " 'tmp1/23.jpg',\n",
       " 'tmp1/24.jpg',\n",
       " 'tmp1/25.jpg',\n",
       " 'tmp1/26.jpg',\n",
       " 'tmp1/27.jpg',\n",
       " 'tmp1/28.jpg',\n",
       " 'tmp1/29.jpg',\n",
       " 'tmp1/30.jpg',\n",
       " 'tmp1/31.jpg',\n",
       " 'tmp1/32.jpg',\n",
       " 'tmp1/33.jpg',\n",
       " 'tmp1/34.jpg',\n",
       " 'tmp1/35.jpg',\n",
       " 'tmp1/36.jpg',\n",
       " 'tmp1/37.jpg',\n",
       " 'tmp1/38.jpg',\n",
       " 'tmp1/39.jpg',\n",
       " 'tmp1/40.jpg',\n",
       " 'tmp1/41.jpg',\n",
       " 'tmp1/42.jpg',\n",
       " 'tmp1/43.jpg',\n",
       " 'tmp1/44.jpg',\n",
       " 'tmp1/45.jpg',\n",
       " 'tmp1/46.jpg',\n",
       " 'tmp1/47.jpg',\n",
       " 'tmp1/48.jpg',\n",
       " 'tmp1/49.jpg',\n",
       " 'tmp1/50.jpg',\n",
       " 'tmp1/51.jpg',\n",
       " 'tmp1/52.jpg',\n",
       " 'tmp1/53.jpg',\n",
       " 'tmp1/54.jpg',\n",
       " 'tmp1/55.jpg',\n",
       " 'tmp1/56.jpg',\n",
       " 'tmp1/57.jpg',\n",
       " 'tmp1/58.jpg',\n",
       " 'tmp1/59.jpg',\n",
       " 'tmp1/60.jpg']"
      ]
     },
     "execution_count": 35,
     "metadata": {},
     "output_type": "execute_result"
    }
   ],
   "source": [
    "paths = sorted(glob('tmp1/*.jpg'),key = lambda x: int(x[5:-4]))\n",
    "paths"
   ]
  },
  {
   "cell_type": "code",
   "execution_count": 36,
   "metadata": {},
   "outputs": [],
   "source": [
    "trackoutputpath = \"./trackpic1\"\n",
    "if not os.path.exists(trackoutputpath):\n",
    "    os.makedirs(trackoutputpath)"
   ]
  },
  {
   "cell_type": "code",
   "execution_count": 37,
   "metadata": {},
   "outputs": [],
   "source": [
    "for i, path in enumerate(paths):\n",
    "    im = cv2.imread(path)\n",
    "    \n",
    "    pred2 = predictor(im)\n",
    "    #MetadataCatalog.get(\"vg\").thing_classes = []\n",
    "    v = Visualizer(im[:, :, :],MetadataCatalog.get(\"coco_2017_train\"))\n",
    "    pred = pred2['instances'].to('cpu')\n",
    "    v = v.draw_instance_predictions(pred)\n",
    "    cv2.imwrite(trackoutputpath+'/'+str(i)+'.jpg',v.get_image())"
   ]
  }
 ],
 "metadata": {
  "kernelspec": {
   "display_name": "exp_env",
   "language": "python",
   "name": "exp_env"
  },
  "language_info": {
   "codemirror_mode": {
    "name": "ipython",
    "version": 3
   },
   "file_extension": ".py",
   "mimetype": "text/x-python",
   "name": "python",
   "nbconvert_exporter": "python",
   "pygments_lexer": "ipython3",
   "version": "3.6.10"
  }
 },
 "nbformat": 4,
 "nbformat_minor": 2
}
